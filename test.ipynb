{
  "nbformat": 4,
  "nbformat_minor": 0,
  "metadata": {
    "colab": {
      "provenance": []
    },
    "kernelspec": {
      "name": "python3",
      "display_name": "Python 3"
    },
    "language_info": {
      "name": "python"
    }
  },
  "cells": [
    {
      "cell_type": "code",
      "execution_count": null,
      "metadata": {
        "colab": {
          "base_uri": "https://localhost:8080/"
        },
        "id": "Yj12L5WLiaHm",
        "outputId": "eb463588-cf06-4440-edf7-5b2e375913c1"
      },
      "outputs": [
        {
          "output_type": "stream",
          "name": "stdout",
          "text": [
            "Hello World!\n"
          ]
        }
      ],
      "source": [
        "s = \"Hello World!\"\n",
        "print(s)"
      ]
    },
    {
      "cell_type": "code",
      "source": [
        "t = \"moar\"\n",
        "print(t)\n",
        "print(t)"
      ],
      "metadata": {
        "colab": {
          "base_uri": "https://localhost:8080/"
        },
        "id": "sV4uHVcTkU2l",
        "outputId": "fe499b6a-7214-45e8-a6a0-01fdde4e4302"
      },
      "execution_count": null,
      "outputs": [
        {
          "output_type": "stream",
          "name": "stdout",
          "text": [
            "moar\n",
            "moar\n"
          ]
        }
      ]
    },
    {
      "cell_type": "markdown",
      "source": [
        "abc 123"
      ],
      "metadata": {
        "id": "ri6pIs2RkVN8"
      }
    }
  ]
}