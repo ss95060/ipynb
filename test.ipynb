{
  "nbformat": 4,
  "nbformat_minor": 0,
  "metadata": {
    "colab": {
      "provenance": []
    },
    "kernelspec": {
      "name": "python3",
      "display_name": "Python 3"
    },
    "language_info": {
      "name": "python"
    }
  },
  "cells": [
    {
      "cell_type": "code",
      "execution_count": null,
      "metadata": {
        "colab": {
          "base_uri": "https://localhost:8080/"
        },
        "id": "Yj12L5WLiaHm",
        "outputId": "eb463588-cf06-4440-edf7-5b2e375913c1"
      },
      "outputs": [
        {
          "output_type": "stream",
          "name": "stdout",
          "text": [
            "Hello World!\n"
          ]
        }
      ],
      "source": [
        "s = \"Hello World!\"\n",
        "print(s)"
      ]
    },
    {
      "cell_type": "code",
      "source": [
        "t = \"moar\"\n",
        "print(t)"
      ],
      "metadata": {
        "colab": {
          "base_uri": "https://localhost:8080/"
        },
        "id": "sV4uHVcTkU2l",
        "outputId": "dc5ce24d-cf54-455b-efd3-aae50de33db9"
      },
      "execution_count": 2,
      "outputs": [
        {
          "output_type": "stream",
          "name": "stdout",
          "text": [
            "moar\n"
          ]
        }
      ]
    },
    {
      "cell_type": "markdown",
      "source": [
        "abc 123"
      ],
      "metadata": {
        "id": "ri6pIs2RkVN8"
      }
    }
  ]
}
